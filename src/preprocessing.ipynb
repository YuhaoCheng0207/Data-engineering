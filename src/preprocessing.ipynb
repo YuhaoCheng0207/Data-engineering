{
 "cells": [
  {
   "cell_type": "code",
   "execution_count": 1,
   "metadata": {},
   "outputs": [],
   "source": [
    "import numpy as np\n",
    "import pandas as pd\n",
    "import os\n",
    "import json"
   ]
  },
  {
   "cell_type": "code",
   "execution_count": 7,
   "metadata": {},
   "outputs": [],
   "source": [
    "path = 'C:\\Codes\\Data-engineering\\data'\n",
    "file_path = os.listdir(path)"
   ]
  },
  {
   "cell_type": "code",
   "execution_count": 23,
   "metadata": {},
   "outputs": [],
   "source": [
    "file_pate_detail = os.path.join(path, file_path[1])"
   ]
  },
  {
   "cell_type": "code",
   "execution_count": 24,
   "metadata": {},
   "outputs": [
    {
     "data": {
      "text/plain": [
       "'C:\\\\Codes\\\\Data-engineering\\\\data\\\\linkedin.json'"
      ]
     },
     "execution_count": 24,
     "metadata": {},
     "output_type": "execute_result"
    }
   ],
   "source": [
    "file_pate_detail"
   ]
  },
  {
   "cell_type": "code",
   "execution_count": 25,
   "metadata": {},
   "outputs": [],
   "source": [
    "number_of_profile = 0\n",
    "for line in open(file_pate_detail, 'rb'):\n",
    "    #line = json.load(line)\n",
    "    number_of_profile+=1"
   ]
  },
  {
   "cell_type": "code",
   "execution_count": 28,
   "metadata": {},
   "outputs": [],
   "source": [
    "fields = set()\n",
    "skills = []\n",
    "specialities = []\n",
    "interests = []\n",
    "occupations = []\n",
    "companies = []\n",
    "schools = []\n",
    "majors = []\n",
    "localities = []\n",
    "industries = []"
   ]
  },
  {
   "cell_type": "code",
   "execution_count": 33,
   "metadata": {},
   "outputs": [
    {
     "name": "stdout",
     "output_type": "stream",
     "text": [
      "number of fields:  18\n"
     ]
    }
   ],
   "source": [
    "for line in open(file_pate_detail, 'rb'):\n",
    "    lines = json.loads(line)\n",
    "    fields.update(lines.keys())\n",
    "    skills.extend(lines['skills'] if 'skills' in lines else [])\n",
    "    specialities.extend(lines['specialities'] if 'specialities' in lines else [])\n",
    "    interests.extend(lines['interests'] if 'interests' in lines else [])\n",
    "    occupations.extend(lines['occupations'] if 'occupations' in lines else [])\n",
    "    schools.extend(lines['schools'] if 'schools' in lines else [])\n",
    "    companies.extend(lines['companies'] if 'companies' in lines else [])\n",
    "    majors.extend(lines['majors'] if 'majors' in lines else [])\n",
    "    industries.extend(lines['industries'] if 'industries' in lines else [])\n",
    "    localities.extend(lines['localities'] if 'localities' in lines else [])    \n",
    "print('number of fields: ',len(fields))    "
   ]
  },
  {
   "cell_type": "code",
   "execution_count": 39,
   "metadata": {},
   "outputs": [],
   "source": [
    "skills_counts = pd.Series(skills).value_counts()\n",
    "specialities_counts = pd.Series(specialities).value_counts()\n",
    "interests_counts = pd.Series(interests).value_counts()\n",
    "occupations_counts = pd.Series(occupations).value_counts()\n",
    "companies_counts = pd.Series(companies).value_counts()\n",
    "schools_counts = pd.Series(schools).value_counts()\n",
    "majors_counts = pd.Series(majors).value_counts()\n",
    "localities_counts = pd.Series(localities).value_counts()\n",
    "industries_counts = pd.Series(industries).value_counts()"
   ]
  },
  {
   "cell_type": "code",
   "execution_count": 45,
   "metadata": {},
   "outputs": [],
   "source": [
    "skills_counts = skills_counts[skills_counts >= 10]\n",
    "specialities_counts = specialities_counts[specialities_counts >= 10]\n",
    "interests_counts = interests_counts[interests_counts >= 10]\n",
    "occupations_counts = occupations_counts[occupations_counts >= 10]\n",
    "companies_counts = companies_counts[companies_counts >= 10]\n",
    "schools_counts = schools_counts[schools_counts >= 10]\n",
    "majors_counts = majors_counts[majors_counts >= 10]\n",
    "localities_counts = localities_counts[localities_counts >= 10]\n",
    "industries_counts = industries_counts[industries_counts >= 10]"
   ]
  },
  {
   "cell_type": "code",
   "execution_count": 60,
   "metadata": {},
   "outputs": [
    {
     "name": "stdout",
     "output_type": "stream",
     "text": [
      "length of skills larger than 10 is:  33489\n"
     ]
    }
   ],
   "source": [
    "skills_df = pd.DataFrame(skills_counts, columns = ['counts'])\n",
    "skills_df['skills'] = skills_df.index\n",
    "skills_df['rank'] = range(1, len(skills_df.index)+1)\n",
    "print('length of skills larger than 10 is: ', len(skills_df.index))"
   ]
  },
  {
   "cell_type": "code",
   "execution_count": 63,
   "metadata": {},
   "outputs": [],
   "source": [
    "profile = []\n",
    "n = 5  \n",
    "for line in open(file_pate_detail, 'rb'):\n",
    "    if len(profile) < n:\n",
    "        profile.append(json.loads(line))\n",
    "    else:\n",
    "        break"
   ]
  },
  {
   "cell_type": "code",
   "execution_count": 65,
   "metadata": {},
   "outputs": [
    {
     "data": {
      "text/plain": [
       "dict_keys(['_id', 'name', 'locality', 'skills', 'industry', 'summary', 'url', 'also_view'])"
      ]
     },
     "execution_count": 65,
     "metadata": {},
     "output_type": "execute_result"
    }
   ],
   "source": [
    "profile[0].keys()"
   ]
  },
  {
   "cell_type": "code",
   "execution_count": 66,
   "metadata": {},
   "outputs": [
    {
     "data": {
      "text/plain": [
       "{'_id': 'in-00000001',\n",
       " 'name': {'family_name': 'Mazalu MBA', 'given_name': 'Dr Catalin'},\n",
       " 'locality': 'United States',\n",
       " 'skills': ['Key Account Development',\n",
       "  'Strategic Planning',\n",
       "  'Market Planning',\n",
       "  'Team Leadership',\n",
       "  'Negotiation',\n",
       "  'Forecasting',\n",
       "  'Key Account Management',\n",
       "  'Sales Management',\n",
       "  'New Business Development',\n",
       "  'Business Planning',\n",
       "  'Cross-functional Team Leadership',\n",
       "  'Budgeting',\n",
       "  'Strategy Development',\n",
       "  'Business Strategy',\n",
       "  'Consultative Selling',\n",
       "  'Medical Devices',\n",
       "  'Customer Relations',\n",
       "  'Contract Negotiation',\n",
       "  'Mentoring',\n",
       "  'Coaching',\n",
       "  'Healthcare',\n",
       "  'Territory',\n",
       "  'Sales Process',\n",
       "  'Direct Sales',\n",
       "  'Sales Operations',\n",
       "  'Pharmaceutical Sales'],\n",
       " 'industry': 'Medical Devices',\n",
       " 'summary': 'SALES MANAGEMENT / BUSINESS DEVELOPMENT / PROJECT MANAGEMENTDOMESTIC & INTERNATIONAL KEY ACCOUNT MANAGEMENTBusiness and Sales Executive with 20 years of accomplished career track, reflecting extensive experience and dynamic record-breaking performance in the Medical Industry markets. Exceptional communicator, strong team player, flexible self-starter with consultative sales style, strong negotiations skills, exceptional problem solving abilities, and accurate customer assessment aptitude. Manage and lead teams to success, drive new business through key accounts management, establish partnerships, manage solid distributor relationship for increased profitability and sales volumes. Very well organized, accurate and on-time administrative work, with a track record that demonstrates self-motivation, creativity, sales team leadership, initiative to achieve corporate, team and personal goals. Experience in the following markets: Medical Devices, Medical Disposables, Capital Equipment, Pharmaceuticals.',\n",
       " 'url': 'http://www.linkedin.com/in/00000001',\n",
       " 'also_view': [{'url': 'http://www.linkedin.com/pub/krisa-drost/45/909/513',\n",
       "   'id': 'pub-krisa-drost-45-909-513'},\n",
       "  {'url': 'http://ro.linkedin.com/pub/florin-ut/18/b33/77b',\n",
       "   'id': 'pub-florin-ut-18-b33-77b'},\n",
       "  {'url': 'http://ro.linkedin.com/pub/cristian-radu/21/225/149',\n",
       "   'id': 'pub-cristian-radu-21-225-149'},\n",
       "  {'url': 'http://ro.linkedin.com/pub/traian-rusu/16/652/279',\n",
       "   'id': 'pub-traian-rusu-16-652-279'},\n",
       "  {'url': 'http://ro.linkedin.com/pub/dumitrescu-catalin/3/283/92',\n",
       "   'id': 'pub-dumitrescu-catalin-3-283-92'},\n",
       "  {'url': 'http://www.linkedin.com/pub/jody-brelsford/9/21a/354',\n",
       "   'id': 'pub-jody-brelsford-9-21a-354'},\n",
       "  {'url': 'http://www.linkedin.com/pub/mary-anne-dilloway/2/55a/18',\n",
       "   'id': 'pub-mary-anne-dilloway-2-55a-18'},\n",
       "  {'url': 'http://ro.linkedin.com/pub/carmen-baleanu/2b/252/203',\n",
       "   'id': 'pub-carmen-baleanu-2b-252-203'},\n",
       "  {'url': 'http://il.linkedin.com/in/shimonlobel', 'id': 'in-shimonlobel'},\n",
       "  {'url': 'http://ro.linkedin.com/pub/monica-danilescu/19/36a/121',\n",
       "   'id': 'pub-monica-danilescu-19-36a-121'}]}"
      ]
     },
     "execution_count": 66,
     "metadata": {},
     "output_type": "execute_result"
    }
   ],
   "source": [
    "profile[0]"
   ]
  },
  {
   "cell_type": "code",
   "execution_count": null,
   "metadata": {},
   "outputs": [],
   "source": []
  }
 ],
 "metadata": {
  "kernelspec": {
   "display_name": "Python 3",
   "language": "python",
   "name": "python3"
  },
  "language_info": {
   "codemirror_mode": {
    "name": "ipython",
    "version": 3
   },
   "file_extension": ".py",
   "mimetype": "text/x-python",
   "name": "python",
   "nbconvert_exporter": "python",
   "pygments_lexer": "ipython3",
   "version": "3.7.1"
  }
 },
 "nbformat": 4,
 "nbformat_minor": 2
}
