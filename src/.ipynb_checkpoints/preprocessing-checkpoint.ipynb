{
 "cells": [
  {
   "cell_type": "code",
   "execution_count": 1,
   "metadata": {},
   "outputs": [],
   "source": [
    "import numpy as np\n",
    "import pandas as pd\n",
    "import os\n",
    "import json"
   ]
  },
  {
   "cell_type": "code",
   "execution_count": 7,
   "metadata": {},
   "outputs": [],
   "source": [
    "path = 'C:\\Codes\\Data-engineering\\data'\n",
    "file_path = os.listdir(path)"
   ]
  },
  {
   "cell_type": "code",
   "execution_count": 23,
   "metadata": {},
   "outputs": [],
   "source": [
    "file_pate_detail = os.path.join(path, file_path[1])"
   ]
  },
  {
   "cell_type": "code",
   "execution_count": 24,
   "metadata": {},
   "outputs": [
    {
     "data": {
      "text/plain": [
       "'C:\\\\Codes\\\\Data-engineering\\\\data\\\\linkedin.json'"
      ]
     },
     "execution_count": 24,
     "metadata": {},
     "output_type": "execute_result"
    }
   ],
   "source": [
    "file_pate_detail"
   ]
  },
  {
   "cell_type": "code",
   "execution_count": 25,
   "metadata": {},
   "outputs": [],
   "source": [
    "number_of_profile = 0\n",
    "for line in open(file_pate_detail, 'rb'):\n",
    "    #line = json.load(line)\n",
    "    number_of_profile+=1"
   ]
  },
  {
   "cell_type": "code",
   "execution_count": 28,
   "metadata": {},
   "outputs": [],
   "source": [
    "fields = set()\n",
    "skills = []\n",
    "specialities = []\n",
    "interests = []\n",
    "occupations = []\n",
    "companies = []\n",
    "schools = []\n",
    "majors = []\n",
    "localities = []\n",
    "industries = []"
   ]
  },
  {
   "cell_type": "code",
   "execution_count": 33,
   "metadata": {},
   "outputs": [
    {
     "name": "stdout",
     "output_type": "stream",
     "text": [
      "number of fields:  18\n"
     ]
    }
   ],
   "source": [
    "for line in open(file_pate_detail, 'rb'):\n",
    "    lines = json.loads(line)\n",
    "    fields.update(lines.keys())\n",
    "    skills.extend(lines['skills'] if 'skills' in lines else [])\n",
    "    specialities.extend(lines['specialities'] if 'specialities' in lines else [])\n",
    "    interests.extend(lines['interests'] if 'interests' in lines else [])\n",
    "    occupations.extend(lines['occupations'] if 'occupations' in lines else [])\n",
    "    schools.extend(lines['schools'] if 'schools' in lines else [])\n",
    "    companies.extend(lines['companies'] if 'companies' in lines else [])\n",
    "    majors.extend(lines['majors'] if 'majors' in lines else [])\n",
    "    industries.extend(lines['industries'] if 'industries' in lines else [])\n",
    "    localities.extend(lines['localities'] if 'localities' in lines else [])    \n",
    "print('number of fields: ',len(fields))    "
   ]
  },
  {
   "cell_type": "code",
   "execution_count": 39,
   "metadata": {},
   "outputs": [],
   "source": [
    "skills_counts = pd.Series(skills).value_counts()\n",
    "specialities_counts = pd.Series(specialities).value_counts()\n",
    "interests_counts = pd.Series(interests).value_counts()\n",
    "occupations_counts = pd.Series(occupations).value_counts()\n",
    "companies_counts = pd.Series(companies).value_counts()\n",
    "schools_counts = pd.Series(schools).value_counts()\n",
    "majors_counts = pd.Series(majors).value_counts()\n",
    "localities_counts = pd.Series(localities).value_counts()\n",
    "industries_counts = pd.Series(industries).value_counts()"
   ]
  },
  {
   "cell_type": "code",
   "execution_count": 45,
   "metadata": {},
   "outputs": [],
   "source": [
    "skills_counts = skills_counts[skills_counts >= 10]\n",
    "specialities_counts = specialities_counts[specialities_counts >= 10]\n",
    "interests_counts = interests_counts[interests_counts >= 10]\n",
    "occupations_counts = occupations_counts[occupations_counts >= 10]\n",
    "companies_counts = companies_counts[companies_counts >= 10]\n",
    "schools_counts = schools_counts[schools_counts >= 10]\n",
    "majors_counts = majors_counts[majors_counts >= 10]\n",
    "localities_counts = localities_counts[localities_counts >= 10]\n",
    "industries_counts = industries_counts[industries_counts >= 10]"
   ]
  },
  {
   "cell_type": "code",
   "execution_count": 60,
   "metadata": {},
   "outputs": [
    {
     "name": "stdout",
     "output_type": "stream",
     "text": [
      "length of skills larger than 10 is:  33489\n"
     ]
    }
   ],
   "source": [
    "skills_df = pd.DataFrame(skills_counts, columns = ['counts'])\n",
    "skills_df['skills'] = skills_df.index\n",
    "skills_df['rank'] = range(1, len(skills_df.index)+1)\n",
    "print('length of skills larger than 10 is: ', len(skills_df.index))"
   ]
  },
  {
   "cell_type": "code",
   "execution_count": null,
   "metadata": {},
   "outputs": [],
   "source": []
  }
 ],
 "metadata": {
  "kernelspec": {
   "display_name": "Python 3",
   "language": "python",
   "name": "python3"
  },
  "language_info": {
   "codemirror_mode": {
    "name": "ipython",
    "version": 3
   },
   "file_extension": ".py",
   "mimetype": "text/x-python",
   "name": "python",
   "nbconvert_exporter": "python",
   "pygments_lexer": "ipython3",
   "version": "3.7.1"
  }
 },
 "nbformat": 4,
 "nbformat_minor": 2
}
